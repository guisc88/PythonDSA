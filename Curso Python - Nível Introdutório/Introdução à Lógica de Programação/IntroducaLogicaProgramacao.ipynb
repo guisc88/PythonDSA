{
 "cells": [
  {
   "attachments": {},
   "cell_type": "markdown",
   "metadata": {},
   "source": [
    "### Calcular a Área de um Paralelograma."
   ]
  },
  {
   "cell_type": "code",
   "execution_count": 6,
   "metadata": {},
   "outputs": [
    {
     "name": "stdout",
     "output_type": "stream",
     "text": [
      "Bem-vindo ao Calculador de Área do Paralelograma\n",
      "\n",
      "A área do paralelograma é 0.00\n"
     ]
    }
   ],
   "source": [
    "print(\"Bem-vindo ao Calculador de Área do Paralelograma\")\n",
    "\n",
    "base = float(input(\"Digite o valor da Base: \"))\n",
    "altura = float(input(\"Digite o valor da Altura: \"))\n",
    "\n",
    "area = base * altura\n",
    "\n",
    "print(f\"\\nA área do paralelograma é {area:.2f}\")"
   ]
  },
  {
   "attachments": {},
   "cell_type": "markdown",
   "metadata": {},
   "source": [
    "### Calculadora Simples.\n"
   ]
  },
  {
   "cell_type": "code",
   "execution_count": 11,
   "metadata": {},
   "outputs": [
    {
     "name": "stdout",
     "output_type": "stream",
     "text": [
      "Bem-vindo à Calculadora\n",
      "O resultado é 23.52\n"
     ]
    }
   ],
   "source": [
    "print(\"Bem-vindo à Calculadora\")\n",
    "\n",
    "num1 = float(input(\"Digite o Primeiro Número: \"))\n",
    "num2 = float(input(\"Digite o Segundo Número: \"))\n",
    "\n",
    "\n",
    "operacao = input(\"Selecione uma Operação (+, -, *, /): \")\n",
    "\n",
    "if operacao == \"+\":\n",
    "    resultado = num1 + num2\n",
    "    print(f\"O resultado é {resultado:.2f}\")\n",
    "elif operacao == \"-\":\n",
    "    resultado = num1 - num2\n",
    "    print(f\"O resultado é {resultado:.2f}\")\n",
    "elif operacao == \"*\":\n",
    "    resultado = num1 * num2\n",
    "    print(f\"O resultado é {resultado:.2f}\")\n",
    "elif operacao == \"/\":\n",
    "    resultado = num1 / num2\n",
    "    print(f\"O resultado é {resultado:.2f}\")\n",
    "else:\n",
    "    print(\"Operação Inválida.\")"
   ]
  }
 ],
 "metadata": {
  "kernelspec": {
   "display_name": "Python 3",
   "language": "python",
   "name": "python3"
  },
  "language_info": {
   "codemirror_mode": {
    "name": "ipython",
    "version": 3
   },
   "file_extension": ".py",
   "mimetype": "text/x-python",
   "name": "python",
   "nbconvert_exporter": "python",
   "pygments_lexer": "ipython3",
   "version": "3.11.1"
  },
  "orig_nbformat": 4
 },
 "nbformat": 4,
 "nbformat_minor": 2
}
