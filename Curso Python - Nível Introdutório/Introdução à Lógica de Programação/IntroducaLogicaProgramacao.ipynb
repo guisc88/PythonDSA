{
 "cells": [
  {
   "attachments": {},
   "cell_type": "markdown",
   "metadata": {},
   "source": [
    "### Calcular a Área de um Paralelograma."
   ]
  },
  {
   "cell_type": "code",
   "execution_count": 2,
   "metadata": {},
   "outputs": [
    {
     "name": "stdout",
     "output_type": "stream",
     "text": [
      "Bem-vindo ao Calculador de Área do Paralelograma\n",
      "\n",
      "A área do paralelograma é 22.50\n"
     ]
    }
   ],
   "source": [
    "print(\"Bem-vindo ao Calculador de Área do Paralelograma\")\n",
    "\n",
    "base = float(input(\"Digite o valor da Base: \"))\n",
    "altura = float(input(\"Digite o valor da Altura: \"))\n",
    "\n",
    "area = base * altura\n",
    "\n",
    "print(f\"\\nA área do paralelograma é {area:.2f}\")"
   ]
  }
 ],
 "metadata": {
  "kernelspec": {
   "display_name": "Python 3",
   "language": "python",
   "name": "python3"
  },
  "language_info": {
   "codemirror_mode": {
    "name": "ipython",
    "version": 3
   },
   "file_extension": ".py",
   "mimetype": "text/x-python",
   "name": "python",
   "nbconvert_exporter": "python",
   "pygments_lexer": "ipython3",
   "version": "3.11.1"
  },
  "orig_nbformat": 4
 },
 "nbformat": 4,
 "nbformat_minor": 2
}
