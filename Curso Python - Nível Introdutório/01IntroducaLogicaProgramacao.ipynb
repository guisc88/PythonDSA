{
 "cells": [
  {
   "attachments": {},
   "cell_type": "markdown",
   "metadata": {},
   "source": [
    "### Calcular a Área de um Paralelograma."
   ]
  },
  {
   "cell_type": "code",
   "execution_count": 6,
   "metadata": {},
   "outputs": [
    {
     "name": "stdout",
     "output_type": "stream",
     "text": [
      "Bem-vindo ao Calculador de Área do Paralelograma\n",
      "\n",
      "A área do paralelograma é 0.00\n"
     ]
    }
   ],
   "source": [
    "print(\"Bem-vindo ao Calculador de Área do Paralelograma\")\n",
    "\n",
    "base = float(input(\"Digite o valor da Base: \"))\n",
    "altura = float(input(\"Digite o valor da Altura: \"))\n",
    "\n",
    "area = base * altura\n",
    "\n",
    "print(f\"\\nA área do paralelograma é {area:.2f}\")"
   ]
  },
  {
   "attachments": {},
   "cell_type": "markdown",
   "metadata": {},
   "source": [
    "### Calculadora Simples.\n"
   ]
  },
  {
   "cell_type": "code",
   "execution_count": 1,
   "metadata": {},
   "outputs": [
    {
     "name": "stdout",
     "output_type": "stream",
     "text": [
      "Bem-vindo a calculadora\n",
      "Não é possível dividir por zero\n",
      "\n",
      "Operação Inválida.\n"
     ]
    }
   ],
   "source": [
    "print(f'Bem-vindo a calculadora')\n",
    "n1 = float(input(f'Insira o primeiro número'))\n",
    "oper = input(f'Selecione a operação: +, -, *, /')\n",
    "n2 = float(input(f'Insira o segundo número'))\n",
    "\n",
    "while n2 == 0 and oper == '/':\n",
    "    print(f'Não é possível dividir por zero')\n",
    "    n1 = float(input(f'Insira o primeiro número'))\n",
    "    oper = input(f'Selecione a operação: +, -, *, /')\n",
    "    n2 = float(input(f'Insira o segundo número'))\n",
    "    print()\n",
    "\n",
    "num = 0\n",
    "if oper == '+':\n",
    "    conta = n1 + n2\n",
    "elif oper == '-':\n",
    "    conta = n1 - n2\n",
    "elif oper == '*':\n",
    "    conta = n1 * n2\n",
    "elif oper == '/':\n",
    "    conta = n1 / n2\n",
    "else:\n",
    "    print(\"Operação Inválida.\")\n",
    "    num = num + 1    \n",
    "\n",
    "if num != 1:\n",
    "    print(f'O resultado é {conta:.2f}') \n",
    "\n",
    "    "
   ]
  },
  {
   "attachments": {},
   "cell_type": "markdown",
   "metadata": {},
   "source": [
    "### Algoritmo Bubble Sort."
   ]
  },
  {
   "cell_type": "code",
   "execution_count": 1,
   "metadata": {},
   "outputs": [
    {
     "name": "stdout",
     "output_type": "stream",
     "text": [
      "[3, 5, 6, 7, 12, 17, 19, 22, 24, 33, 45, 54, 66, 77, 91]\n"
     ]
    }
   ],
   "source": [
    "lista = [6, 3, 12, 7, 5, 19, 66, 45, 54, 24, 77, 22, 91, 33, 17]\n",
    "\n",
    "def bubble_sort(arr):\n",
    "    \n",
    "    N = len(arr)\n",
    "    \n",
    "    for i in range(0, N):\n",
    "        for j in range(0, N-i-1):\n",
    "            if arr[j] > arr[j+1]:\n",
    "                arr[j], arr[j+1] = arr[j+1], arr[j]\n",
    "                \n",
    "    return arr  \n",
    "\n",
    "    \n",
    "print(bubble_sort(lista))  "
   ]
  }
 ],
 "metadata": {
  "kernelspec": {
   "display_name": "Python 3",
   "language": "python",
   "name": "python3"
  },
  "language_info": {
   "codemirror_mode": {
    "name": "ipython",
    "version": 3
   },
   "file_extension": ".py",
   "mimetype": "text/x-python",
   "name": "python",
   "nbconvert_exporter": "python",
   "pygments_lexer": "ipython3",
   "version": "3.11.1"
  },
  "orig_nbformat": 4
 },
 "nbformat": 4,
 "nbformat_minor": 2
}
