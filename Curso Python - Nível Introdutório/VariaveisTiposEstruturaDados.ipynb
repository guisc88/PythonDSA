{
 "cells": [
  {
   "attachments": {},
   "cell_type": "markdown",
   "metadata": {},
   "source": [
    "### Operações, Conversões e Variáveis."
   ]
  },
  {
   "cell_type": "code",
   "execution_count": 1,
   "metadata": {},
   "outputs": [
    {
     "name": "stdout",
     "output_type": "stream",
     "text": [
      "9.5\n",
      "8.0\n",
      "8\n",
      "2.0\n",
      "2\n",
      "1.3333333333333333\n",
      "1.0\n",
      "36\n",
      "9.0\n",
      "6\n",
      "6\n",
      "6\n",
      "0x186\n",
      "0b100011110\n",
      "8\n",
      "8\n",
      "3.48\n",
      "4.372\n",
      "36\n",
      "64\n",
      "<class 'float'>\n",
      "12\n",
      "Bob Marley\n"
     ]
    }
   ],
   "source": [
    "a = 3.1 + 6.4\n",
    "print(a)\n",
    "b = 4 + 4.0\n",
    "print(b)\n",
    "c = 4 + 4\n",
    "print(c)\n",
    "d = 4 / 2\n",
    "print(d)\n",
    "e = 4 // 2\n",
    "print(e)\n",
    "f = 4 / 3.0\n",
    "print(f)\n",
    "g = 4 // 3.0\n",
    "print(g)\n",
    "h = 6 ** 2\n",
    "print(h)\n",
    "\n",
    "print(float(9))\n",
    "print(int(6.0))\n",
    "print(int(6.5))\n",
    "print(int(6.6))\n",
    "#Hexadecimal\n",
    "print(hex(390))\n",
    "#Binário\n",
    "print(bin(286))\n",
    "#ValorAbsoluto\n",
    "print(abs(8))\n",
    "print(abs(-8))\n",
    "#Arredondar\n",
    "print(round(3.476213, 2))\n",
    "print(round(4.37180, 3))\n",
    "#Potência\n",
    "print(pow(6, 2))\n",
    "print(pow(4, 3))\n",
    "#TipoVariável\n",
    "print(type(6.57))\n",
    "#OperaçõesVariáveis\n",
    "altura, largura = 2, 4\n",
    "perimetro = altura * 2 + largura * 2\n",
    "print(perimetro)\n",
    "nome1, nome2 = 'Bob', 'Marley'\n",
    "nomeInteiro = nome1 + \" \" + nome2\n",
    "print(nomeInteiro)\n"
   ]
  }
 ],
 "metadata": {
  "kernelspec": {
   "display_name": "Python 3",
   "language": "python",
   "name": "python3"
  },
  "language_info": {
   "codemirror_mode": {
    "name": "ipython",
    "version": 3
   },
   "file_extension": ".py",
   "mimetype": "text/x-python",
   "name": "python",
   "nbconvert_exporter": "python",
   "pygments_lexer": "ipython3",
   "version": "3.11.1"
  },
  "orig_nbformat": 4
 },
 "nbformat": 4,
 "nbformat_minor": 2
}
