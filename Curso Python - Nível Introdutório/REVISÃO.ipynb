{
 "cells": [
  {
   "cell_type": "code",
   "execution_count": 9,
   "metadata": {},
   "outputs": [
    {
     "name": "stdout",
     "output_type": "stream",
     "text": [
      "Bem-vindo ao Calculador de Área do Paralelogramo\n",
      "A área do paralelogramo é 24.0\n",
      "\n",
      " A área do paralelogramo é 24.000 \n"
     ]
    }
   ],
   "source": [
    "print(f'Bem-vindo ao Calculador de Área do Paralelogramo')\n",
    "base = []\n",
    "base = float(input(f'Insira o comprimeto da base: '))\n",
    "altura = []\n",
    "altura = float(input(f'Insira a altura: '))\n",
    "area = base * altura\n",
    "print(f'A área do paralelograma é',area)\n",
    "print(f'\\n A área do paralelograma é {area:.2f} ')"
   ]
  },
  {
   "cell_type": "code",
   "execution_count": 24,
   "metadata": {},
   "outputs": [
    {
     "name": "stdout",
     "output_type": "stream",
     "text": [
      "Bem-vindo a calculadora\n"
     ]
    },
    {
     "name": "stdout",
     "output_type": "stream",
     "text": [
      "Não é possível dividir por zero\n",
      "\n",
      "Não é possível dividir por zero\n",
      "\n",
      "Operação Inválida.\n"
     ]
    }
   ],
   "source": [
    "print(f'Bem-vindo a calculadora')\n",
    "n1 = float(input(f'Insira o primeiro número'))\n",
    "oper = input(f'Selecione a operação: +, -, *, /')\n",
    "n2 = float(input(f'Insira o segundo número'))\n",
    "\n",
    "while n2 == 0 and oper == '/':\n",
    "    print(f'Não é possível dividir por zero')\n",
    "    n1 = float(input(f'Insira o primeiro número'))\n",
    "    oper = input(f'Selecione a operação: +, -, *, /')\n",
    "    n2 = float(input(f'Insira o segundo número'))\n",
    "    print()\n",
    "\n",
    "num = 0\n",
    "if oper == '+':\n",
    "    conta = n1 + n2\n",
    "elif oper == '-':\n",
    "    conta = n1 - n2\n",
    "elif oper == '*':\n",
    "    conta = n1 * n2\n",
    "elif oper == '/':\n",
    "    conta = n1 / n2\n",
    "else:\n",
    "    print(\"Operação Inválida.\")\n",
    "    num = num + 1    \n",
    "\n",
    "if num != 1:\n",
    "    print(f'O resultado é {conta:.2f}') \n",
    "    print()\n"
   ]
  },
  {
   "cell_type": "code",
   "execution_count": null,
   "metadata": {},
   "outputs": [],
   "source": []
  }
 ],
 "metadata": {
  "kernelspec": {
   "display_name": "Python 3",
   "language": "python",
   "name": "python3"
  },
  "language_info": {
   "codemirror_mode": {
    "name": "ipython",
    "version": 3
   },
   "file_extension": ".py",
   "mimetype": "text/x-python",
   "name": "python",
   "nbconvert_exporter": "python",
   "pygments_lexer": "ipython3",
   "version": "3.11.1"
  }
 },
 "nbformat": 4,
 "nbformat_minor": 2
}
