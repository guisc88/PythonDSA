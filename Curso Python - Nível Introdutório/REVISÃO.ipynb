{
 "cells": [
  {
   "cell_type": "code",
   "execution_count": 9,
   "metadata": {},
   "outputs": [
    {
     "name": "stdout",
     "output_type": "stream",
     "text": [
      "Bem-vindo ao Calculador de Área do Paralelogramo\n",
      "A área do paralelogramo é 24.0\n",
      "\n",
      " A área do paralelogramo é 24.000 \n"
     ]
    }
   ],
   "source": [
    "print(f'Bem-vindo ao Calculador de Área do Paralelogramo')\n",
    "base = []\n",
    "base = float(input(f'Insira o comprimeto da base: '))\n",
    "altura = []\n",
    "altura = float(input(f'Insira a altura: '))\n",
    "area = base * altura\n",
    "print(f'A área do paralelograma é',area)\n",
    "print(f'\\n A área do paralelograma é {area:.2f} ')"
   ]
  },
  {
   "cell_type": "code",
   "execution_count": 24,
   "metadata": {},
   "outputs": [
    {
     "name": "stdout",
     "output_type": "stream",
     "text": [
      "Bem-vindo a calculadora\n"
     ]
    },
    {
     "name": "stdout",
     "output_type": "stream",
     "text": [
      "Não é possível dividir por zero\n",
      "\n",
      "Não é possível dividir por zero\n",
      "\n",
      "Operação Inválida.\n"
     ]
    }
   ],
   "source": [
    "print(f'Bem-vindo a calculadora')\n",
    "n1 = float(input(f'Insira o primeiro número'))\n",
    "oper = input(f'Selecione a operação: +, -, *, /')\n",
    "n2 = float(input(f'Insira o segundo número'))\n",
    "\n",
    "while n2 == 0 and oper == '/':\n",
    "    print(f'Não é possível dividir por zero')\n",
    "    n1 = float(input(f'Insira o primeiro número'))\n",
    "    oper = input(f'Selecione a operação: +, -, *, /')\n",
    "    n2 = float(input(f'Insira o segundo número'))\n",
    "    print()\n",
    "\n",
    "num = 0\n",
    "if oper == '+':\n",
    "    conta = n1 + n2\n",
    "elif oper == '-':\n",
    "    conta = n1 - n2\n",
    "elif oper == '*':\n",
    "    conta = n1 * n2\n",
    "elif oper == '/':\n",
    "    conta = n1 / n2\n",
    "else:\n",
    "    print(\"Operação Inválida.\")\n",
    "    num = num + 1    \n",
    "\n",
    "if num != 1:\n",
    "    print(f'O resultado é {conta:.2f}') \n",
    "\n"
   ]
  },
  {
   "cell_type": "markdown",
   "metadata": {},
   "source": [
    "### Algoritmo Bubble Sort"
   ]
  },
  {
   "cell_type": "code",
   "execution_count": 8,
   "metadata": {},
   "outputs": [
    {
     "name": "stdout",
     "output_type": "stream",
     "text": [
      "[3, 5, 6, 7, 12, 17, 19, 22, 24, 33, 45, 54, 66, 77, 91]\n",
      "[0, 1, 2, 3, 4, 5, 21, 23, 44, 78, 89]\n"
     ]
    }
   ],
   "source": [
    "lista1 = [6, 3, 12, 7, 5, 19, 66, 45, 54, 24, 77, 22, 91, 33, 17]\n",
    "lista2 = [3,4,5,78,89,23,1,0,44,2,21]\n",
    "\n",
    "def bubble_sort(arr):\n",
    "    n = len(arr)               #para ver o tamanho da lista\n",
    "    for i in range(n):\n",
    "        for j in range(0, n-i-1):\n",
    "            if arr[j] > arr [j+1]:\n",
    "                arr[j], arr[j+1] = arr[j+1], arr[j]\n",
    "\n",
    "    return arr\n",
    "\n",
    "print(bubble_sort(lista1))\n",
    "print(bubble_sort(lista2))\n",
    "print()\n",
    "\n",
    "\n",
    "    \n",
    "\n",
    "    "
   ]
  },
  {
   "cell_type": "code",
   "execution_count": 1,
   "metadata": {},
   "outputs": [
    {
     "data": {
      "text/plain": [
       "3"
      ]
     },
     "execution_count": 1,
     "metadata": {},
     "output_type": "execute_result"
    }
   ],
   "source": [
    "print(type(\"4\"))\n",
    "15 % 6\n",
    "2 // 1.3\n",
    "5 ** 5"
   ]
  },
  {
   "cell_type": "code",
   "execution_count": 7,
   "metadata": {},
   "outputs": [
    {
     "name": "stdout",
     "output_type": "stream",
     "text": [
      "20\n"
     ]
    }
   ],
   "source": [
    "altura, largura = 2, 4\n",
    "base = altura * 2 + largura * 4\n",
    "print(base)"
   ]
  },
  {
   "cell_type": "code",
   "execution_count": 11,
   "metadata": {},
   "outputs": [
    {
     "name": "stdout",
     "output_type": "stream",
     "text": [
      "Bob Marley\n"
     ]
    }
   ],
   "source": [
    "nome1, nome2 = \"Bob\", \"Marley\"\n",
    "nomeInteiro = nome1 + \" \" + nome2\n",
    "print(nomeInteiro)"
   ]
  },
  {
   "cell_type": "code",
   "execution_count": 2,
   "metadata": {},
   "outputs": [
    {
     "name": "stdout",
     "output_type": "stream",
     "text": [
      "Testando \n",
      "Strings \n",
      "Em \n",
      "Python \n",
      "Data Science Academy\n",
      "ata \n",
      "Data Science Academy me ensina python\n",
      "DATA SCIENCE ACADEMY\n",
      "data science academy\n",
      "['Data', 'Science', 'Academy']\n",
      "['Data Sci', 'nc', ' Acad', 'my']\n",
      "False\n",
      "False\n",
      "False\n",
      "False\n",
      "\n",
      "False\n",
      "['maria', 'joana', 'carlos', 'marcos', 'luiz', 'felipe', 'gabriel']\n",
      "['maria', 'joana', 'carlos', 'marcos', 'luiz', 'felipe', 'gabriel']\n",
      "['gabriel', 'luiz', 'carlos', 'marcos', 'margarete', 'marcos']\n",
      "['julio', 'gabriel', 'marcos', 'giovana', 'fred']\n",
      "['luis', 'Gabriel', 'Marcos', 'João']\n",
      "['Luiza', 'Gabriel', 'Marcos', 'João', 'Suzana']\n"
     ]
    }
   ],
   "source": [
    "print('Testando \\nStrings \\nEm \\nPython ')\n",
    "s = 'Data Science Academy'\n",
    "print(s)\n",
    "print(s[1:5])\n",
    "print(s + \" \" + \"me ensina python\")\n",
    "print(s.upper())\n",
    "print(s.lower())\n",
    "print(s.split())\n",
    "print(s.split('e'))\n",
    "\n",
    "print(s.isalnum())\n",
    "print(s.islower())\n",
    "print(s.isspace())\n",
    "print(s.endswith('n'))\n",
    "print()\n",
    "\n",
    "l = 'Sem nada mais'\n",
    "print(s == l)\n",
    "\n",
    "n = \"maria.joana.carlos.marcos.luiz.felipe.gabriel\"\n",
    "print(n.split(\".\"))\n",
    "\n",
    "o = \"maria/joana/carlos/marcos/luiz/felipe/gabriel\"\n",
    "print(o.split(\"/\"))\n",
    "\n",
    "p = \"gabriel-luiz-carlos-marcos-margarete-marcos\"\n",
    "print(p.split(\"-\"))\n",
    "\n",
    "q = \"julio_gabriel_marcos_giovana_fred\"\n",
    "print(q.split(\"_\"))\n",
    "\n",
    "r = \"luis=Gabriel=Marcos=João\"\n",
    "print(r.split(\"=\"))\n",
    "\n",
    "s = \"Luiza*Gabriel*Marcos*João*Suzana\"\n",
    "print(s.split(\"*\"))\n",
    "\n"
   ]
  },
  {
   "cell_type": "code",
   "execution_count": 1,
   "metadata": {},
   "outputs": [
    {
     "name": "stdout",
     "output_type": "stream",
     "text": [
      "['Luiza', 'Gabriel', 'Marcos', 'João', 'Suzana']\n"
     ]
    }
   ],
   "source": []
  },
  {
   "cell_type": "code",
   "execution_count": null,
   "metadata": {},
   "outputs": [],
   "source": []
  }
 ],
 "metadata": {
  "kernelspec": {
   "display_name": "Python 3",
   "language": "python",
   "name": "python3"
  },
  "language_info": {
   "codemirror_mode": {
    "name": "ipython",
    "version": 3
   },
   "file_extension": ".py",
   "mimetype": "text/x-python",
   "name": "python",
   "nbconvert_exporter": "python",
   "pygments_lexer": "ipython3",
   "version": "3.11.1"
  }
 },
 "nbformat": 4,
 "nbformat_minor": 2
}
