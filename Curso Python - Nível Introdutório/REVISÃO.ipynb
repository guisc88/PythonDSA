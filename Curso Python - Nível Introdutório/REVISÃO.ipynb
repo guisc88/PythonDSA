{
 "cells": [
  {
   "cell_type": "code",
   "execution_count": 9,
   "metadata": {},
   "outputs": [
    {
     "name": "stdout",
     "output_type": "stream",
     "text": [
      "Bem-vindo ao Calculador de Área do Paralelogramo\n",
      "A área do paralelogramo é 24.0\n",
      "\n",
      " A área do paralelogramo é 24.000 \n"
     ]
    }
   ],
   "source": [
    "print(f'Bem-vindo ao Calculador de Área do Paralelogramo')\n",
    "base = []\n",
    "base = float(input(f'Insira o comprimeto da base: '))\n",
    "altura = []\n",
    "altura = float(input(f'Insira a altura: '))\n",
    "area = base * altura\n",
    "print(f'A área do paralelograma é',area)\n",
    "print(f'\\n A área do paralelograma é {area:.2f} ')"
   ]
  },
  {
   "cell_type": "code",
   "execution_count": 24,
   "metadata": {},
   "outputs": [
    {
     "name": "stdout",
     "output_type": "stream",
     "text": [
      "Bem-vindo a calculadora\n"
     ]
    },
    {
     "name": "stdout",
     "output_type": "stream",
     "text": [
      "Não é possível dividir por zero\n",
      "\n",
      "Não é possível dividir por zero\n",
      "\n",
      "Operação Inválida.\n"
     ]
    }
   ],
   "source": [
    "print(f'Bem-vindo a calculadora')\n",
    "n1 = float(input(f'Insira o primeiro número'))\n",
    "oper = input(f'Selecione a operação: +, -, *, /')\n",
    "n2 = float(input(f'Insira o segundo número'))\n",
    "\n",
    "while n2 == 0 and oper == '/':\n",
    "    print(f'Não é possível dividir por zero')\n",
    "    n1 = float(input(f'Insira o primeiro número'))\n",
    "    oper = input(f'Selecione a operação: +, -, *, /')\n",
    "    n2 = float(input(f'Insira o segundo número'))\n",
    "    print()\n",
    "\n",
    "num = 0\n",
    "if oper == '+':\n",
    "    conta = n1 + n2\n",
    "elif oper == '-':\n",
    "    conta = n1 - n2\n",
    "elif oper == '*':\n",
    "    conta = n1 * n2\n",
    "elif oper == '/':\n",
    "    conta = n1 / n2\n",
    "else:\n",
    "    print(\"Operação Inválida.\")\n",
    "    num = num + 1    \n",
    "\n",
    "if num != 1:\n",
    "    print(f'O resultado é {conta:.2f}') \n",
    "\n"
   ]
  },
  {
   "cell_type": "markdown",
   "metadata": {},
   "source": [
    "### Algoritmo Bubble Sort"
   ]
  },
  {
   "cell_type": "code",
   "execution_count": 6,
   "metadata": {},
   "outputs": [
    {
     "name": "stdout",
     "output_type": "stream",
     "text": [
      "[3, 5, 6, 7, 12, 17, 19, 22, 24, 33, 45, 54, 66, 77, 91]\n",
      "[0, 1, 2, 3, 4, 5, 21, 23, 44, 78, 89]\n",
      "\n"
     ]
    }
   ],
   "source": [
    "lista1 = [6, 3, 12, 7, 5, 19, 66, 45, 54, 24, 77, 22, 91, 33, 17]\n",
    "lista2 = [3,4,5,78,89,23,1,0,44,2,21]\n",
    "\n",
    "def bubble_sort(arr):\n",
    "    n = len(arr)               #para ver o tamanho da lista\n",
    "    for i in range(n):\n",
    "        for j in range(0, n-i-1):\n",
    "            if arr[j] > arr [j+1]:\n",
    "                arr[j], arr[j+1] = arr[j+1], arr[j]\n",
    "\n",
    "    return arr\n",
    "\n",
    "print(bubble_sort(lista1))\n",
    "print(bubble_sort(lista2))\n",
    "print()"
   ]
  },
  {
   "cell_type": "code",
   "execution_count": 5,
   "metadata": {},
   "outputs": [
    {
     "name": "stdout",
     "output_type": "stream",
     "text": [
      "<class 'str'>\n",
      "3\n",
      "1.0\n",
      "3125\n"
     ]
    }
   ],
   "source": [
    "print(type(\"4\"))\n",
    "print(15 % 6)\n",
    "print(2 // 1.3)\n",
    "print(5 ** 5)"
   ]
  },
  {
   "cell_type": "code",
   "execution_count": 7,
   "metadata": {},
   "outputs": [
    {
     "name": "stdout",
     "output_type": "stream",
     "text": [
      "20\n"
     ]
    }
   ],
   "source": [
    "altura, largura = 2, 4\n",
    "base = altura * 2 + largura * 4\n",
    "print(base)"
   ]
  },
  {
   "cell_type": "code",
   "execution_count": 11,
   "metadata": {},
   "outputs": [
    {
     "name": "stdout",
     "output_type": "stream",
     "text": [
      "Bob Marley\n"
     ]
    }
   ],
   "source": [
    "nome1, nome2 = \"Bob\", \"Marley\"\n",
    "nomeInteiro = nome1 + \" \" + nome2\n",
    "print(nomeInteiro)"
   ]
  },
  {
   "cell_type": "code",
   "execution_count": 3,
   "metadata": {},
   "outputs": [
    {
     "name": "stdout",
     "output_type": "stream",
     "text": [
      "Testando \n",
      "Strings \n",
      "Em \n",
      "Python \n",
      "Data Science Academy\n",
      "ata \n",
      "Data Science Academy me ensina python\n",
      "DATA SCIENCE ACADEMY\n",
      "data science academy\n",
      "['Data', 'Science', 'Academy']\n",
      "['Data Sci', 'nc', ' Acad', 'my']\n",
      "False\n",
      "False\n",
      "False\n",
      "False\n",
      "\n",
      "False\n",
      "['maria', 'joana', 'carlos', 'marcos', 'luiz', 'felipe', 'gabriel']\n",
      "['maria', 'joana', 'carlos', 'marcos', 'luiz', 'felipe', 'gabriel']\n",
      "['gabriel', 'luiz', 'carlos', 'marcos', 'margarete', 'marcos']\n",
      "['julio', 'gabriel', 'marcos', 'giovana', 'fred']\n",
      "['luis', 'Gabriel', 'Marcos', 'João']\n",
      "['Luiza', 'Gabriel', 'Marcos', 'João', 'Suzana']\n",
      "['Luiz', 'João', 'Marcos', 'Astrid', 'Manoel']\n",
      "['Fabiano', 'Gustavo', 'Marcelo', 'Jonas', 'Leo']\n",
      "OLÁ, TODOS NÓS QUEREMOS MOSTRAR QUANTAS VEZES NÓS CONSEGUIMOS IR ATÉ O TOPO DA MONTANHA E RETORNAR SEM NENHUM PROBLEMA.\n"
     ]
    }
   ],
   "source": [
    "print('Testando \\nStrings \\nEm \\nPython ')\n",
    "s = 'Data Science Academy'\n",
    "print(s)\n",
    "print(s[1:5])\n",
    "print(s + \" \" + \"me ensina python\")\n",
    "print(s.upper())\n",
    "print(s.lower())\n",
    "print(s.split())\n",
    "print(s.split('e'))\n",
    "\n",
    "print(s.isalnum())\n",
    "print(s.islower())\n",
    "print(s.isspace())\n",
    "print(s.endswith('n'))\n",
    "print()\n",
    "\n",
    "l = 'Sem nada mais'\n",
    "print(s == l)\n",
    "\n",
    "n = \"maria.joana.carlos.marcos.luiz.felipe.gabriel\"\n",
    "print(n.split(\".\"))\n",
    "\n",
    "o = \"maria/joana/carlos/marcos/luiz/felipe/gabriel\"\n",
    "print(o.split(\"/\"))\n",
    "\n",
    "p = \"gabriel-luiz-carlos-marcos-margarete-marcos\"\n",
    "print(p.split(\"-\"))\n",
    "\n",
    "q = \"julio_gabriel_marcos_giovana_fred\"\n",
    "print(q.split(\"_\"))\n",
    "\n",
    "r = \"luis=Gabriel=Marcos=João\"\n",
    "print(r.split(\"=\"))\n",
    "\n",
    "t = \"Luiza*Gabriel*Marcos*João*Suzana\"\n",
    "print(t.split(\"*\"))\n",
    "\n",
    "u = \"Luiz?João?Marcos?Astrid?Manoel\"\n",
    "print(u.split(\"?\"))\n",
    "\n",
    "v = \"Fabiano,Gustavo,Marcelo,Jonas,Leo\"\n",
    "print(v.split(','))\n",
    "\n",
    "w = \"olá, todos nós queremos mostrar quantas vezes nós conseguimos ir até o topo da montanha e retornar sem nenhum problema.\"\n",
    "print(w.upper())"
   ]
  },
  {
   "cell_type": "code",
   "execution_count": 27,
   "metadata": {},
   "outputs": [
    {
     "name": "stdout",
     "output_type": "stream",
     "text": [
      "<class 'list'>\n",
      "['Arroz, feijão, tomate, leite']\n",
      "<class 'list'>\n",
      "['Arroz', 'Feijão', 'Tomate', 'Leite']\n",
      "Tomate\n",
      "<class 'list'>\n",
      "[23, 100, 'Cientista de Dados']\n",
      "23 100 Cientista de Dados\n",
      "<class 'list'>\n",
      "['Laranja', 'Maça', 'Abacaxi', 'Uva']\n",
      "['Laranja', 'Maça', 'Abacate', 'Uva']\n",
      "['Laranja', 'Abacate', 'Uva']\n",
      "\n",
      "[[1, 2, 3], [2, 3, 4], [5, 6, 7]]\n",
      "[1, 2, 3]\n",
      "2\n",
      "10.1\n",
      "12.3\n",
      "160\n",
      "162.3\n",
      "[3, 7, 10, 17, 19, 22]\n",
      "True\n",
      "False\n"
     ]
    }
   ],
   "source": [
    "#Listas parte 1\n",
    "\n",
    "lista1 = [\"Arroz, feijão, tomate, leite\"]\n",
    "print(type(lista1))\n",
    "print(lista1)\n",
    "lista2 = ['Arroz', 'Feijão', 'Tomate', 'Leite']\n",
    "print(type(lista2))\n",
    "print(lista2)\n",
    "print(lista2[2])\n",
    "lista3 = [23, 100, \"Cientista de Dados\"]\n",
    "print(type(lista3))\n",
    "print(lista3)\n",
    "item1 = lista3[0]\n",
    "item2 = lista3[1]\n",
    "item3 = lista3[2]\n",
    "print(item1, item2, item3)\n",
    "lista4 = [\"Laranja\", \"Maça\", \"Abacaxi\", \"Uva\"]\n",
    "print(type(lista4))\n",
    "print(lista4)\n",
    "lista4[2] = \"Abacate\"\n",
    "print(lista4)\n",
    "del(lista4[1])\n",
    "print(lista4)\n",
    "print()\n",
    "\n",
    "listas = [[1,2,3], [2,3,4], [5,6,7]]\n",
    "print(listas)\n",
    "print(listas[0])\n",
    "a = listas[0]\n",
    "b = a[1]\n",
    "print(b)\n",
    "listas2 = [[1,2,3], [10,15,14], [10.1,8.7,2.3]]\n",
    "print(listas2[2][0])\n",
    "c = listas2[2][2]\n",
    "print(c + 10)\n",
    "d = (listas2[0][1] + listas2[1][2]) * 10\n",
    "print(d)\n",
    "e = c + d\n",
    "print(e)\n",
    "\n",
    "lista5 = [3,7,10]\n",
    "lista6 = [17,19,22]\n",
    "listas3 = lista5 + lista6\n",
    "print(listas3)\n",
    "print(7 in listas3)\n",
    "print(5 in listas3)"
   ]
  },
  {
   "cell_type": "code",
   "execution_count": 5,
   "metadata": {},
   "outputs": [
    {
     "name": "stdout",
     "output_type": "stream",
     "text": [
      "4\n",
      "-3.4\n",
      "50\n",
      "['Cientista de Dados', 'Engenheiro de Dados', 'Analista de Dados', 'Engenheiro de IA']\n",
      "['Cientista de Dados', 'Engenheiro de Dados', 'Analista de Dados', 'Engenheiro de IA', 'Engenheiro de IA']\n",
      "2\n",
      "\n",
      "[]\n",
      "['10']\n",
      "['10', '50']\n",
      "\n",
      "[]\n",
      "['Macaco']\n",
      "1\n",
      "\n",
      "[3, 5, 6, 1, 2, 5, 10]\n",
      "\n",
      "['Manaus', 'São Paulo', 'Rio de Janeiro']\n",
      "['Manaus', 'São Paulo', 'Rio de Janeiro', 'Porto Alegre', 'Curitiba']\n",
      "2\n",
      "\n",
      "['Penha', 'Tatuapé', 'Pinheiros']\n",
      "['Vila Matilde', 'Patriarca']\n",
      "['Penha', 'Tatuapé', 'Pinheiros', 'Vila Matilde', 'Patriarca']\n",
      "['Penha', 'Tatuapé', 'Pinheiros', 'Vila Matilde', 'Patriarca', 'Itaquera']\n",
      "\n",
      "['Jabaquara', 'Saude', 'Vila Mariana', 'Santa Cruz']\n",
      "['Jabaquara', 'Vila Mariana', 'Santa Cruz']\n",
      "\n",
      "[]\n",
      "['Itaquera']\n",
      "['Itaquera', 'Guilhermina', 'Carrão']\n",
      "1\n",
      "\n",
      "['Cesar', 'Paulo', 'Jady']\n",
      "['Cesar', 'Paulo', 'Jady', 'Rose']\n",
      "['Cesar', 'Paulo', 'Jady', 'Rose', 'Marcio', 'Rosa']\n",
      "4\n",
      "['Cesar', 'Paulo', 'Jady', 'Maicon', 'Rose', 'Marcio', 'Rosa']\n",
      "['Cesar', 'Paulo', 'Jady', 'Maicon', 'Rose', 'Marcio', 'Rosa']\n",
      "['Cesar', 'Paulo', 'Jady', 'Rose', 'Marcio', 'Rosa']\n",
      "['Cesar', 'Jady', 'Marcio', 'Paulo', 'Rosa', 'Rose']\n",
      "['Rose', 'Rosa', 'Paulo', 'Marcio', 'Jady', 'Cesar']\n",
      "\n"
     ]
    }
   ],
   "source": [
    "#Listas parte 2\n",
    "\n",
    "listaNumeros = [10,20,50,-3.4]\n",
    "print(len(listaNumeros))\n",
    "print(min(listaNumeros))\n",
    "print(max(listaNumeros))\n",
    "\n",
    "listaCarreiras = [\"Cientista de Dados\",\"Engenheiro de Dados\",\"Analista de Dados\"]\n",
    "listaCarreiras.append(\"Engenheiro de IA\")\n",
    "print(listaCarreiras)\n",
    "listaCarreiras.append(\"Engenheiro de IA\")\n",
    "print(listaCarreiras)\n",
    "print(listaCarreiras.count(\"Engenheiro de IA\"))\n",
    "print()\n",
    "\n",
    "#Criando uma lista vazia\n",
    "\n",
    "listaVazia = []\n",
    "print(listaVazia)\n",
    "listaVazia.append(\"10\")\n",
    "print(listaVazia)\n",
    "listaVazia.append(\"50\")\n",
    "print(listaVazia)\n",
    "print()\n",
    "\n",
    "listaVazia2 = []\n",
    "print(listaVazia2)\n",
    "listaVazia2.append('Macaco')\n",
    "print(listaVazia2)\n",
    "listaVazia2.append('Jacaré')\n",
    "print(listaVazia2.count('Jacaré'))\n",
    "print()\n",
    "\n",
    "listaAntiga = [1,2,5,10]\n",
    "listaNova = [3,5,6]\n",
    "for item in listaAntiga:\n",
    "    listaNova.append(item)\n",
    "print(listaNova)\n",
    "print()\n",
    "\n",
    "listaCidades = ['Manaus', 'São Paulo', 'Rio de Janeiro']\n",
    "print(listaCidades)\n",
    "listaCidades.extend(['Porto Alegre', 'Curitiba'])\n",
    "print(listaCidades)\n",
    "print(listaCidades.index('Rio de Janeiro'))\n",
    "print()\n",
    "\n",
    "listaBairros = ['Penha', 'Tatuapé', 'Pinheiros']\n",
    "print(listaBairros)\n",
    "listaBairros2 = ['Vila Matilde', 'Patriarca']\n",
    "print(listaBairros2)\n",
    "listaBairros.extend(listaBairros2)\n",
    "print(listaBairros)\n",
    "listaBairros.append('Itaquera')\n",
    "print(listaBairros)\n",
    "print()\n",
    "\n",
    "\n",
    "listaBairros3 = ['Vila Mariana', 'Santa Cruz']\n",
    "listaBairros4 = ['Jabaquara', 'Saude']\n",
    "for item in listaBairros3:\n",
    "    listaBairros4.append(item)\n",
    "print(listaBairros4)\n",
    "del(listaBairros4[1])\n",
    "print(listaBairros4)\n",
    "print()\n",
    "\n",
    "\n",
    "listaBairros5 =[]\n",
    "print(listaBairros5)\n",
    "listaBairros5.append('Itaquera')\n",
    "print(listaBairros5)\n",
    "listaBairros6 = ['Guilhermina', 'Carrão']\n",
    "listaBairros5.extend(listaBairros6)\n",
    "print(listaBairros5)\n",
    "print(listaBairros5.index('Guilhermina'))\n",
    "print()\n",
    "\n",
    "listaAlunos = ['Cesar', 'Paulo', 'Jady']\n",
    "print(listaAlunos)\n",
    "listaAlunos.append('Rose')\n",
    "print(listaAlunos)\n",
    "listaAlunos2 = ['Marcio', 'Rosa']\n",
    "listaAlunos.extend(listaAlunos2)\n",
    "print(listaAlunos)\n",
    "print(listaAlunos.index('Marcio'))\n",
    "listaAlunos.insert(3, 'Maicon')\n",
    "print(listaAlunos)\n",
    "listaAlunos.index('Maicon')\n",
    "print(listaAlunos)\n",
    "listaAlunos.remove('Maicon')\n",
    "print(listaAlunos)\n",
    "listaAlunos.sort()\n",
    "print(listaAlunos)\n",
    "listaAlunos.reverse()\n",
    "print(listaAlunos)\n",
    "print()"
   ]
  },
  {
   "cell_type": "code",
   "execution_count": 5,
   "metadata": {},
   "outputs": [
    {
     "name": "stdout",
     "output_type": "stream",
     "text": [
      "<class 'list'>\n",
      "<class 'dict'>\n",
      "10\n",
      "33\n",
      "\n",
      "{'Pedro': 10, 'Ronaldo': 33, 'Ana': 27, 'Janaina': 45, 'Marcelo': 30}\n",
      "{'Isis': 54}\n",
      "{}\n",
      "\n",
      "{'Gabriel': 10, 'Juliana': 20}\n",
      "{'Gabriel': 10, 'Juliana': 20, 'Marcelo': 30}\n",
      "{'Gabriel': 10, 'Juliana': 20, 'Marcelo': 30, 'Marco': 18}\n",
      "\n",
      "{}\n",
      "{'Lauro': 30}\n"
     ]
    }
   ],
   "source": [
    "#Dicionários\n",
    "\n",
    "estudantes = ['Pedro', 10, 'Ronaldo', 33, 'Ana', 27, 'Janaina', 45]\n",
    "print(type(estudantes))\n",
    "estudantes = {'Pedro':10, 'Ronaldo':33, 'Ana':27, 'Janaina':45}\n",
    "print(type(estudantes))\n",
    "print(estudantes['Pedro'])\n",
    "print(estudantes[\"Ronaldo\"])\n",
    "print()\n",
    "\n",
    "estudantes['Marcelo'] = 30\n",
    "print(estudantes)\n",
    "estudantesVazio = {}\n",
    "estudantesVazio['Isis'] = 54\n",
    "print(estudantesVazio)\n",
    "estudantes.clear()\n",
    "print(estudantes)\n",
    "del estudantes\n",
    "print()\n",
    "\n",
    "estudantes2 = {'Gabriel': 10, 'Juliana': 20}\n",
    "print(estudantes2)\n",
    "estudantes2['Marcelo'] = 30\n",
    "print(estudantes2)\n",
    "estudantes2['Marco'] = 18\n",
    "print(estudantes2)\n",
    "print()\n",
    "\n",
    "estudantes3 = {}\n",
    "print(estudantes3)\n",
    "estudantes3['Lauro'] = 30 \n",
    "print(estudantes3)\n"
   ]
  },
  {
   "cell_type": "code",
   "execution_count": 6,
   "metadata": {},
   "outputs": [
    {
     "name": "stdout",
     "output_type": "stream",
     "text": [
      "Hello World\n",
      "None\n",
      "Hello Bob\n",
      "Hello Bob\n",
      "None\n",
      "Hello Aluno\n",
      "Hello Aluno\n",
      "None\n",
      "Número 0\n",
      "Número 1\n",
      "Número 2\n",
      "Número 3\n",
      "Número 4\n",
      "\n",
      "Primeiro Número: 4\n",
      "Segundo Número: 7\n",
      "Soma: 11\n",
      "\n",
      "O parâmetro passado foi 5\n",
      "O parâmetro passado foi 7\n",
      "O parâmetro passado foi 8\n",
      "\n",
      "10\n",
      "28\n"
     ]
    },
    {
     "data": {
      "text/plain": [
       "'14'"
      ]
     },
     "execution_count": 6,
     "metadata": {},
     "output_type": "execute_result"
    }
   ],
   "source": [
    "#Funções\n",
    "\n",
    "def primeiraFunc ():\n",
    "    print('Hello World')\n",
    "\n",
    "print(primeiraFunc())   \n",
    "\n",
    "def primeiraFunc():\n",
    "    nome = 'Bob'\n",
    "    print(f'Hello {nome}')\n",
    "\n",
    "primeiraFunc()\n",
    "print(primeiraFunc())   \n",
    "\n",
    "def segundaFunc(nome):\n",
    "    print(f'Hello {nome}')\n",
    "\n",
    "segundaFunc('Aluno')\n",
    "print(segundaFunc('Aluno'))\n",
    "\n",
    "\n",
    "def imprimeNumeros():\n",
    "    for i in range (0, 5, 1):\n",
    "        print(f'Número {i}')\n",
    "\n",
    "imprimeNumeros()     \n",
    "print()\n",
    "\n",
    "def addNum(firstnum, secondnum):\n",
    "    print(f'Primeiro Número: {firstnum}')\n",
    "    print(f'Segundo Número: {secondnum}')\n",
    "    print(f'Soma: {firstnum + secondnum}')\n",
    "\n",
    "addNum(4, 7)  \n",
    "print()  \n",
    "          \n",
    "def printVarInfo(*args):\n",
    "    for item in args:\n",
    "        print(f'O parâmetro passado foi {item}')\n",
    "    return\n",
    "printVarInfo(5, 7, 8)  \n",
    "print()\n",
    "\n",
    "var_global = 10\n",
    "\n",
    "def multiplica_numeros(num1, num2):\n",
    "    var_global = num1 * num2\n",
    "    print(var_global)\n",
    "\n",
    "print(var_global)\n",
    "multiplica_numeros(4, 7)\n",
    "\n",
    "# Funções Built-in\n",
    "\n",
    "abs(-56)\n",
    "str(14)"
   ]
  },
  {
   "cell_type": "code",
   "execution_count": 5,
   "metadata": {},
   "outputs": [
    {
     "name": "stdout",
     "output_type": "stream",
     "text": [
      " A idade dela é 33\n"
     ]
    },
    {
     "data": {
      "text/plain": [
       "123"
      ]
     },
     "execution_count": 5,
     "metadata": {},
     "output_type": "execute_result"
    }
   ],
   "source": [
    "idade = int(input('Digite a sua idade: '))\n",
    "print(f' A idade dela é {idade}')\n",
    "\n"
   ]
  },
  {
   "cell_type": "code",
   "execution_count": 11,
   "metadata": {},
   "outputs": [
    {
     "data": {
      "text/plain": [
       "5"
      ]
     },
     "execution_count": 11,
     "metadata": {},
     "output_type": "execute_result"
    }
   ],
   "source": [
    "int(float('123.345'))"
   ]
  },
  {
   "cell_type": "code",
   "execution_count": 20,
   "metadata": {},
   "outputs": [
    {
     "name": "stdout",
     "output_type": "stream",
     "text": [
      "\n",
      "\n"
     ]
    },
    {
     "data": {
      "text/plain": [
       "24"
      ]
     },
     "execution_count": 20,
     "metadata": {},
     "output_type": "execute_result"
    }
   ],
   "source": [
    "import math\n",
    "\n",
    "math.exp2(8)\n",
    "print()\n",
    "math.sqrt(64)\n",
    "print()\n",
    "math.cos(0)\n",
    "math.factorial(4)"
   ]
  }
 ],
 "metadata": {
  "kernelspec": {
   "display_name": "Python 3",
   "language": "python",
   "name": "python3"
  },
  "language_info": {
   "codemirror_mode": {
    "name": "ipython",
    "version": 3
   },
   "file_extension": ".py",
   "mimetype": "text/x-python",
   "name": "python",
   "nbconvert_exporter": "python",
   "pygments_lexer": "ipython3",
   "version": "3.11.1"
  }
 },
 "nbformat": 4,
 "nbformat_minor": 2
}
