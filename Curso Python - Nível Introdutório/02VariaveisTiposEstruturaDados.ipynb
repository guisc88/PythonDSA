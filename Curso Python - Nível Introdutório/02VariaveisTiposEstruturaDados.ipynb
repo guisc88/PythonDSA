{
 "cells": [
  {
   "attachments": {},
   "cell_type": "markdown",
   "metadata": {},
   "source": [
    "### Operações, Conversões e Variáveis."
   ]
  },
  {
   "cell_type": "code",
   "execution_count": 26,
   "metadata": {},
   "outputs": [
    {
     "name": "stdout",
     "output_type": "stream",
     "text": [
      "9.5\n",
      "8.0\n",
      "8\n",
      "2.0\n",
      "2\n",
      "1.3333333333333333\n",
      "1.0\n",
      "36\n",
      "9.0\n",
      "6\n",
      "6\n",
      "6\n",
      "\n",
      "0x186\n",
      "\n",
      "0b100011110\n",
      "\n",
      "8\n",
      "8\n",
      "\n",
      "3.48\n",
      "4.372\n",
      "\n",
      "36\n",
      "64\n",
      "\n",
      "<class 'float'>\n",
      "\n",
      "12\n",
      "Bob Marley\n"
     ]
    }
   ],
   "source": [
    "# Operações comuns\n",
    "a = 3.1 + 6.4\n",
    "print(a)\n",
    "b = 4 + 4.0\n",
    "print(b)\n",
    "c = 4 + 4\n",
    "print(c)\n",
    "d = 4 / 2\n",
    "print(d)\n",
    "e = 4 // 2\n",
    "print(e)\n",
    "f = 4 / 3.0\n",
    "print(f)\n",
    "g = 4 // 3.0\n",
    "print(g)\n",
    "h = 6 ** 2\n",
    "print(h)\n",
    "\n",
    "print(float(9))\n",
    "print(int(6.0))\n",
    "print(int(6.5))\n",
    "print(int(6.6))\n",
    "print()\n",
    "\n",
    "# Hexadecimal\n",
    "print(hex(390))\n",
    "print()\n",
    "\n",
    "# Binário\n",
    "print(bin(286))\n",
    "print()\n",
    "\n",
    "# Valor Absoluto\n",
    "print(abs(8))\n",
    "print(abs(-8))\n",
    "print()\n",
    "\n",
    "# Arredondar\n",
    "print(round(3.476213, 2))\n",
    "print(round(4.37180, 3))\n",
    "print()\n",
    "\n",
    "# Potência\n",
    "print(pow(6, 2))\n",
    "print(pow(4, 3))\n",
    "print()\n",
    "\n",
    "# Tipo de Variável\n",
    "print(type(6.57))\n",
    "print()\n",
    "\n",
    "# Operações com Variáveis\n",
    "altura, largura = 2, 4\n",
    "perimetro = altura * 2 + largura * 2\n",
    "print(perimetro)\n",
    "nome1, nome2 = 'Bob', 'Marley'\n",
    "nomeInteiro = nome1 + \" \" + nome2\n",
    "print(nomeInteiro)\n"
   ]
  },
  {
   "attachments": {},
   "cell_type": "markdown",
   "metadata": {},
   "source": [
    "### Strings e Indexação."
   ]
  },
  {
   "cell_type": "code",
   "execution_count": 24,
   "metadata": {},
   "outputs": [
    {
     "name": "stdout",
     "output_type": "stream",
     "text": [
      "Testando \n",
      " Strings \n",
      " em \n",
      " Python\n",
      "\n",
      "Data Science Academy\n",
      "Data Science AcademyData Science Academy\n",
      "D\n",
      "t\n",
      "a Science Academy\n",
      "Dat\n",
      "y\n",
      "Data Science Aca\n",
      "demy\n",
      "Data Science Academy\n",
      "Dt cec cdm\n",
      "ymedacA ecneicS ataD\n",
      "Data Science Academy me ensina Python\n",
      "\n",
      "Data Science Academy me ensina Python\n",
      "\n",
      "DATA SCIENCE ACADEMY ME ENSINA PYTHON\n",
      "\n",
      "data science academy me ensina python\n",
      "\n",
      "['Data', 'Science', 'Academy', 'me', 'ensina', 'Python']\n",
      "['Data Science Academ', ' me ensina P', 'thon']\n",
      "\n",
      "Data science academy me ensina python\n",
      "\n",
      "4\n",
      "1\n",
      "\n",
      "False\n",
      "False\n",
      "False\n",
      "True\n",
      "\n",
      "False\n",
      "True\n"
     ]
    }
   ],
   "source": [
    "# O /n funciona como tecla Enter\n",
    "print('Testando \\n Strings \\n em \\n Python')\n",
    "print()\n",
    "\n",
    "# Imprimindo elementos da String\n",
    "s = 'Data Science Academy'\n",
    "print(s)\n",
    "print(s * 2)\n",
    "print(s[0])\n",
    "print(s[2])\n",
    "print(s[3:])\n",
    "print(s[:3])\n",
    "print(s[-1])\n",
    "print(s[:-4])\n",
    "print(s[-4:])\n",
    "print(s[::1])\n",
    "print(s[::2])\n",
    "print(s[::-1])\n",
    "print(s + \" \" + 'me ensina Python')\n",
    "print()\n",
    "\n",
    "# Mudando a String (não é possível mudar um caractere dentro dela)\n",
    "s = s + \" \" + 'me ensina Python'\n",
    "print(s)\n",
    "print()\n",
    "\n",
    "# FUnções Built-in de Strings\n",
    "# Upper Case (maiúsculas)\n",
    "print(s.upper())\n",
    "print()\n",
    "\n",
    "# Lower Case (minúsculas)\n",
    "print(s.lower())\n",
    "print()\n",
    "\n",
    "# Dividir uma String por espaços em branco (padrão) ou caractere determinado\n",
    "print(s.split())\n",
    "print(s.split('y'))\n",
    "print()\n",
    "\n",
    "# Capitalize (Retorna a primeira letra como maiúscula e todas as outras como minúsculas)\n",
    "print(s.capitalize())\n",
    "print()\n",
    "\n",
    "# Contar caracteres ou palavras\n",
    "print(s.count('a'))\n",
    "print(s.count('Python'))\n",
    "print()\n",
    "\n",
    "# saber se a string tem alguma característica\n",
    "print(s.isalnum())\n",
    "print(s.islower())\n",
    "print(s.isspace())\n",
    "print(s.endswith('n'))\n",
    "print()\n",
    "\n",
    "# Comparando Strings\n",
    "print('Python' == 'R')\n",
    "print('Python' == 'Python')\n"
   ]
  },
  {
   "attachments": {},
   "cell_type": "markdown",
   "metadata": {},
   "source": [
    "### Listas Parte 1."
   ]
  },
  {
   "cell_type": "code",
   "execution_count": 23,
   "metadata": {},
   "outputs": [
    {
     "name": "stdout",
     "output_type": "stream",
     "text": [
      "<class 'list'>\n",
      "['Arroz, feijão, tomate, leite']\n",
      "<class 'list'>\n",
      "['Arroz', 'Feijão', 'Tomate', 'Leite']\n",
      "Tomate\n",
      "<class 'list'>\n",
      "[23, 100, 'Cientista de Dados']\n",
      "23 100 Cientista de Dados\n",
      "['Laranja', 'Maça', 'Abacaxi', 'Uva']\n",
      "['Laranja', 'Maça', 'Abacate', 'Uva']\n",
      "['Laranja', 'Maça', 'Abacate']\n",
      "\n",
      "[[1, 2, 3], [2, 3, 4], [5, 6, 7]]\n",
      "[1, 2, 3]\n",
      "1\n",
      "10.1\n",
      "14\n",
      "12.3\n",
      "107.0\n",
      "119.3\n",
      "\n",
      "[3, 7, 10, 17, 19, 22]\n",
      "True\n",
      "False\n"
     ]
    }
   ],
   "source": [
    "# Listas\n",
    "lista1 = [\"Arroz, feijão, tomate, leite\"]\n",
    "print(type(lista1))\n",
    "print(lista1)\n",
    "lista2 = [\"Arroz\", \"Feijão\", \"Tomate\", \"Leite\"]\n",
    "print(type(lista2))\n",
    "print(lista2)\n",
    "print(lista2[2])\n",
    "lista3 = [23, 100, \"Cientista de Dados\"]\n",
    "print(type(lista3))\n",
    "print(lista3)\n",
    "item1 = lista3[0]\n",
    "item2 = lista3[1]\n",
    "item3 = lista3[2]\n",
    "print(item1, item2, item3)\n",
    "lista4 = [\"Laranja\", \"Maça\", \"Abacaxi\", \"Uva\"]\n",
    "print(lista4)\n",
    "lista4[2] = \"Abacate\"\n",
    "print(lista4)\n",
    "del lista4[3]\n",
    "print(lista4)\n",
    "print()\n",
    "\n",
    "# Criando uma lista de listas\n",
    "listas = [[1,2,3], [2,3,4], [5,6,7]] \n",
    "print(listas)\n",
    "print(listas[0])\n",
    "a = listas[0]\n",
    "b = a[0]\n",
    "print(b)\n",
    "listas2 = [[1,2,3], [10,15,14], [10.1,8.7,2.3]]\n",
    "print(listas2[2][0])\n",
    "c = listas2[1][2]\n",
    "print(c)\n",
    "d = listas2[2][2] + 10\n",
    "print(d)\n",
    "e = (listas2[0][1] + listas2[2][1]) * 10\n",
    "print(e)\n",
    "g = e + d\n",
    "print(g)\n",
    "print()\n",
    "\n",
    "# Concatenando Listas\n",
    "lista5 = [3,7,10]\n",
    "lista6 = [17,19,22]\n",
    "listas3 = lista5 + lista6\n",
    "print(listas3)\n",
    "print(7 in listas3)\n",
    "print(34 in listas3)\n"
   ]
  },
  {
   "attachments": {},
   "cell_type": "markdown",
   "metadata": {},
   "source": [
    "### Listas Parte 2."
   ]
  },
  {
   "cell_type": "code",
   "execution_count": 3,
   "metadata": {},
   "outputs": [
    {
     "name": "stdout",
     "output_type": "stream",
     "text": [
      "4\n",
      "50\n",
      "-3.4\n",
      "['Cientista de Dados', 'Engenheiro de Dados', 'Analista de Dados', 'Engenheiro de IA']\n",
      "['Cientista de Dados', 'Engenheiro de Dados', 'Analista de Dados', 'Engenheiro de IA', 'Engenheiro de IA']\n",
      "2\n",
      "\n",
      "[]\n",
      "[10]\n",
      "[10, 50]\n",
      "\n",
      "[1, 2, 5, 10]\n",
      "\n",
      "['Recife', 'Manaus', 'Salvador']\n",
      "['Recife', 'Manaus', 'Salvador', 'Rio de Janeiro', 'São Paulo']\n",
      "2\n",
      "\n",
      "['São Paulo', 'Guarulhos', 'Santo André', 'São Caetano']\n",
      "['São Paulo', 'Guarulhos', 'Mauá', 'São Caetano']\n",
      "['São Paulo', 'Guarulhos', 'Mauá', 'São Bernardo', 'São Caetano']\n",
      "['São Paulo', 'Guarulhos', 'Mauá', 'São Caetano']\n",
      "['São Paulo', 'Guarulhos', 'Mauá']\n",
      "['São Paulo', 'Mauá']\n",
      "\n",
      "['Volkswagen', 'Honda', 'Citroen', 'Hyundai', 'Ford', 'Chevrolet']\n",
      "['Chevrolet', 'Citroen', 'Ford', 'Honda', 'Hyundai', 'Volkswagen']\n",
      "[8, 9, 4, 2, 5, 6, 7, 3, 1]\n",
      "[1, 2, 3, 4, 5, 6, 7, 8, 9]\n",
      "\n"
     ]
    }
   ],
   "source": [
    "# Funções Built-in\n",
    "listaNumeros = [10,20,50,-3.4] \n",
    "print(len(listaNumeros))\n",
    "print(max(listaNumeros))\n",
    "print(min(listaNumeros))\n",
    "listaCarreiras = [\"Cientista de Dados\",\"Engenheiro de Dados\",\"Analista de Dados\"]\n",
    "listaCarreiras.append(\"Engenheiro de IA\")\n",
    "print(listaCarreiras)\n",
    "listaCarreiras.append(\"Engenheiro de IA\")\n",
    "print(listaCarreiras)\n",
    "print(listaCarreiras.count(\"Engenheiro de IA\"))\n",
    "print()\n",
    "\n",
    "# Criando uma Lista vazia\n",
    "listaVazia = []\n",
    "print(listaVazia)\n",
    "listaVazia.append(10)\n",
    "print(listaVazia)\n",
    "listaVazia.append(50)\n",
    "print(listaVazia)\n",
    "print()\n",
    "\n",
    "# Copiando os itens de uma Lista antiga para uma nova\n",
    "listaAntiga = [1,2,5,10]\n",
    "listaNova = []\n",
    "for item in listaAntiga:\n",
    "    listaNova.append(item)\n",
    "print(listaNova)\n",
    "print()\n",
    "\n",
    "# Estender uma lista\n",
    "listaCidades = [\"Recife\",\"Manaus\",\"Salvador\"]\n",
    "print(listaCidades)\n",
    "listaCidades.extend([\"Rio de Janeiro\",\"São Paulo\"])\n",
    "print(listaCidades)\n",
    "print(listaCidades.index('Salvador'))\n",
    "print()\n",
    "\n",
    "# Adicionar e remover itens da Lista\n",
    "listaMunicipios = ['São Paulo', 'Guarulhos', 'Santo André', 'São Caetano']\n",
    "print(listaMunicipios)\n",
    "listaMunicipios[2] = \"Mauá\" #substituir um elemento em uma lista\n",
    "print(listaMunicipios)\n",
    "listaMunicipios.insert(3, 'São Bernardo') #adicionar em uma posição\n",
    "print(listaMunicipios)\n",
    "listaMunicipios.remove('São Bernardo')\n",
    "print(listaMunicipios)\n",
    "listaMunicipios.pop() #remove o último elemento da lista\n",
    "print(listaMunicipios)\n",
    "listaMunicipios.pop(1) #remove o elemento escolhido\n",
    "removido = listaMunicipios.pop(1) #armazeno o item removido em uma variável\n",
    "print(listaMunicipios)\n",
    "print(removido)\n",
    "print()\n",
    "\n",
    "# Inverter e ordenar os itens da lista\n",
    "listaMarcas = [\"Chevrolet\", \"Ford\", \"Hyundai\", \"Citroen\", \"Honda\", \"Volkswagen\"]\n",
    "listaMarcas.reverse()\n",
    "print(listaMarcas)\n",
    "listaMarcas.sort()\n",
    "print(listaMarcas)\n",
    "listaValores = [1,3,7,6,5,2,4,9,8]\n",
    "listaValores.reverse()\n",
    "print(listaValores)\n",
    "listaValores.sort()\n",
    "print(listaValores)\n",
    "print()\n"
   ]
  },
  {
   "attachments": {},
   "cell_type": "markdown",
   "metadata": {},
   "source": [
    "### Dicionários Parte 1."
   ]
  },
  {
   "cell_type": "code",
   "execution_count": 21,
   "metadata": {},
   "outputs": [
    {
     "name": "stdout",
     "output_type": "stream",
     "text": [
      "<class 'list'>\n",
      "['Pedro', 22, 'Ronaldo', 24, 'Ana', 26, 'Janaina', 28]\n",
      "<class 'dict'>\n",
      "{'Pedro': 22, 'Ronaldo': 24, 'Ana': 26, 'Janina': 28}\n",
      "22\n",
      "24\n",
      "\n",
      "{'Pedro': 22, 'Ronaldo': 24, 'Ana': 26, 'Janina': 28, 'Marcelo': 30}\n",
      "{'Isis': 44}\n",
      "{}\n",
      "\n",
      "4\n",
      "dict_keys(['Gabriel', 'Junior', 'Manoel', 'Maria'])\n",
      "dict_values([22, 24, 26, 28])\n",
      "\n",
      "{'Gabriel': 22, 'Junior': 24, 'Manoel': 26, 'Maria': 28, 'Vitor': 30, 'Messias': 32, 'Mari': 34, 'Esther': 36}\n",
      "\n",
      "{'key1': 'Data Science', 'key2': 10, 'key3': 100}\n",
      "Data Science 10 100\n"
     ]
    }
   ],
   "source": [
    "# Criando um Dicionário\n",
    "estudantes = ['Pedro', 22, 'Ronaldo', 24, 'Ana', 26, 'Janaina', 28]\n",
    "print(type(estudantes))\n",
    "print(estudantes) \n",
    "estudantes = {'Pedro':22, 'Ronaldo':24, 'Ana':26, 'Janina':28}\n",
    "print(type(estudantes))\n",
    "print(estudantes)\n",
    "print(estudantes['Pedro'])\n",
    "print(estudantes[\"Ronaldo\"])\n",
    "print()\n",
    "\n",
    "# Adicionando, limpoando e deletando o Dicionário\n",
    "estudantes['Marcelo'] = 30\n",
    "print(estudantes)\n",
    "estudantesVazio = {} # Dicionário vazio criado\n",
    "estudantesVazio['Isis'] = 44\n",
    "print(estudantesVazio)\n",
    "estudantes.clear()\n",
    "print(estudantes)\n",
    "del estudantes #deletado o dicionário\n",
    "print()\n",
    "\n",
    "# Chaves e Valores\n",
    "estudantes2 = {'Gabriel':22, 'Junior':24, 'Manoel':26, 'Maria':28}\n",
    "print(len(estudantes2))\n",
    "print(estudantes2.keys())\n",
    "print(estudantes2.values())\n",
    "print()\n",
    "\n",
    "# Update de Dicionários\n",
    "estudantes3 = {'Vitor': 30, 'Messias':32, 'Mari':34, 'Esther':36}\n",
    "estudantes2.update(estudantes3)\n",
    "print(estudantes2)\n",
    "print()\n",
    "\n",
    "# Extraindo Valores de Chaves\n",
    "dict = {}\n",
    "dict['key1'] = 'Data Science'\n",
    "dict['key2'] = 10\n",
    "dict['key3'] = 100\n",
    "print(dict)\n",
    "a = dict['key1']\n",
    "b = dict['key2']\n",
    "c = dict['key3']\n",
    "print(a, b, c)"
   ]
  },
  {
   "attachments": {},
   "cell_type": "markdown",
   "metadata": {},
   "source": [
    "### Dicionários Parte 2."
   ]
  },
  {
   "cell_type": "code",
   "execution_count": 3,
   "metadata": {},
   "outputs": [
    {
     "name": "stdout",
     "output_type": "stream",
     "text": [
      "{'chave1': 1230, 'chave2': [22, 453, 73.4], 'chave3': ['mamão', 'banana', 'abacaxi']}\n",
      "[22, 453, 73.4]\n",
      "\n",
      "mamão\n",
      "MAMÃO\n",
      "\n",
      "253\n",
      "\n",
      "{'chave1': 1230, 'chave2': [22, 453, 100.0], 'chave3': ['mamão', 'banana', 'abacaxi']}\n",
      "\n",
      "A long-expected party\n",
      "The shadow of the past\n",
      "Three is company\n",
      "\n",
      "A long-expected party\n",
      "The shadow of the past\n",
      "Three is awesome\n",
      "A new value\n",
      "\n",
      "dict aninhado em python\n"
     ]
    }
   ],
   "source": [
    "# Dicionário de Listas\n",
    "dict1 = {'chave1':1230, 'chave2':[22,453,73.4], 'chave3':['mamão','banana','abacaxi']}\n",
    "print(dict1)\n",
    "print(dict1['chave2'])\n",
    "print()\n",
    "\n",
    "# Acessando um item da lista, dentro do dicionário\n",
    "print(dict1['chave3'][0])\n",
    "print(dict1['chave3'][0].upper())\n",
    "print()\n",
    "\n",
    "# Operações com item da lista, dentro do dicionário\n",
    "var1 = dict1['chave2'][1] - 200\n",
    "print(var1)\n",
    "print()\n",
    "\n",
    "# Duas operações no mesmo comando, para atualizar um item dentro da lista\n",
    "dict1['chave2'][2] += 26.6 # faz a operação e depois atribui com o '='\n",
    "print(dict1)\n",
    "print()\n",
    "\n",
    "# Imprimindo os valores das chaves de um dicionário\n",
    "contents = {\"ch. 1\": \"A long-expected party\", \"ch. 2\": \"The shadow of the past\", \"ch. 3\": \"Three is company\"}\n",
    "for chapter in contents:\n",
    "    print(contents[chapter])\n",
    "print()\n",
    "\n",
    "# Alterando o valor de uma chave ou criando uma nova chave\n",
    "contents = {\"ch. 1\": \"A long-expected party\", \"ch. 2\": \"The shadow of the past\", \"ch. 3\": \"Three is company\"}\n",
    "contents[\"ch. 3\"] = \"Three is awesome\"\n",
    "contents[\"ch. 4\"] = \"A new value\"\n",
    "for chapter in contents:\n",
    "    print(contents[chapter])    \n",
    "print()\n",
    "\n",
    "# Criando dicionários aninhados\n",
    "dictAninhado = {'key1':{'key2':{'key3':'dict aninhado em python'}}}\n",
    "print(dictAninhado['key1']['key2']['key3'])"
   ]
  },
  {
   "attachments": {},
   "cell_type": "markdown",
   "metadata": {},
   "source": [
    "### Tuplas."
   ]
  },
  {
   "cell_type": "code",
   "execution_count": null,
   "metadata": {},
   "outputs": [
    {
     "name": "stdout",
     "output_type": "stream",
     "text": [
      "('Geografia', 23, 'Elefantes', 9.8, 'Python')\n",
      "Chocolate\n",
      "\n",
      "Mar\n",
      "5\n",
      "('Aviões', 18.8, 'Geladeira')\n",
      "2\n",
      "\n",
      "<class 'list'>\n",
      "<class 'tuple'>\n",
      "['Mariana', 44, 'Luis', 55]\n",
      "('Mariana', 44, 'Luis', 55)\n"
     ]
    }
   ],
   "source": [
    "# Criando uma Tupla (Não podem ser alteradas)\n",
    "tupla1 = ('Geografia', 23, 'Elefantes', 9.8, 'Python' )\n",
    "print(tupla1)\n",
    "tupla2 = ('Chocolate')\n",
    "print(tupla2)\n",
    "print()\n",
    "\n",
    "# Trabalhando com Tuplas\n",
    "tupla2 = ('Mar', 34, 'Aviões', 18.8, 'Geladeira' )\n",
    "print(tupla2[0])\n",
    "print(len(tupla2))\n",
    "print(tupla2[2:])\n",
    "print(tupla2.index('Aviões'))\n",
    "del tupla2\n",
    "print()\n",
    "\n",
    "# Convertendo Tuplas para Listas e Listas para Tuplas\n",
    "tupla3 = ('Mariana', 44, 'Luis')\n",
    "listaConvertida = list(tupla3)\n",
    "print(type(listaConvertida))\n",
    "print(type(tupla3))\n",
    "listaConvertida.append(55)\n",
    "tupla3 = tuple(listaConvertida)\n",
    "print(listaConvertida)\n",
    "print(tupla3)\n",
    "print()"
   ]
  },
  {
   "attachments": {},
   "cell_type": "markdown",
   "metadata": {},
   "source": [
    "### Exercícios."
   ]
  },
  {
   "cell_type": "code",
   "execution_count": 9,
   "metadata": {},
   "outputs": [
    {
     "name": "stdout",
     "output_type": "stream",
     "text": [
      "1 2 3 4 5 6 7 8 9 10 \n",
      "[1, 2, 3, 4, 5, 6, 7, 8, 9, 10]\n"
     ]
    }
   ],
   "source": [
    "# Exercício 1 - Imprima na tela os números de 1 a 10. Use uma lista para armazenar os números.\n",
    "lista1 = []\n",
    "\n",
    "for i in range (1, 11, 1):\n",
    "    print(i, end=' ')\n",
    "    lista1.append(i)\n",
    "\n",
    "print()\n",
    "print(lista1)"
   ]
  },
  {
   "cell_type": "code",
   "execution_count": 1,
   "metadata": {},
   "outputs": [
    {
     "name": "stdout",
     "output_type": "stream",
     "text": [
      "['Marte', 'Júpiter', 'Terra', 'Vênus', 'Mercúrio']\n"
     ]
    }
   ],
   "source": [
    "# Exercício 2 - Crie uma lista de 5 objetos e imprima na tela\n",
    "listaObjetos = ['Marte', 'Júpiter', 'Terra', 'Vênus', 'Mercúrio']\n",
    "print(listaObjetos)"
   ]
  },
  {
   "cell_type": "code",
   "execution_count": 2,
   "metadata": {},
   "outputs": [
    {
     "name": "stdout",
     "output_type": "stream",
     "text": [
      "Olá, meu nome é Guilherme e moro em São Paulo\n"
     ]
    }
   ],
   "source": [
    "# Exercício 3 - Crie duas strings e concatene as duas em uma terceira string\n",
    "string1 = 'Olá, meu nome é Guilherme'\n",
    "string2 = 'e moro em São Paulo'\n",
    "string3 = string1 + ' ' + string2\n",
    "print(string3)"
   ]
  },
  {
   "cell_type": "code",
   "execution_count": 12,
   "metadata": {},
   "outputs": [
    {
     "name": "stdout",
     "output_type": "stream",
     "text": [
      "3\n"
     ]
    }
   ],
   "source": [
    "# Exercício 4 - Crie uma tupla com os seguintes elementos: 1, 2, 2, 3, 4, 4, 4, 5 e depois utilize a função count do \n",
    "# objeto tupla para verificar quantas vezes o número 4 aparece na tupla\n",
    "tupla1 = (1, 2, 2, 3, 4, 4, 4, 5)\n",
    "print(tupla1.count(4))"
   ]
  },
  {
   "cell_type": "code",
   "execution_count": 13,
   "metadata": {},
   "outputs": [
    {
     "name": "stdout",
     "output_type": "stream",
     "text": [
      "{}\n"
     ]
    }
   ],
   "source": [
    "# Exercício 5 - Crie um dicionário vazio e imprima na tela\n",
    "dict1 = {}\n",
    "print(dict1)"
   ]
  },
  {
   "cell_type": "code",
   "execution_count": 14,
   "metadata": {},
   "outputs": [
    {
     "name": "stdout",
     "output_type": "stream",
     "text": [
      "{'key1': 10, 'key2': 20, 'key3': 30}\n"
     ]
    }
   ],
   "source": [
    "# Exercício 6 - Crie um dicionário com 3 chaves e 3 valores e imprima na tela\n",
    "dict2 = {'key1':10, 'key2':20, 'key3':30}\n",
    "print(dict2)"
   ]
  },
  {
   "cell_type": "code",
   "execution_count": 15,
   "metadata": {},
   "outputs": [
    {
     "name": "stdout",
     "output_type": "stream",
     "text": [
      "{'key1': 10, 'key2': 20, 'key3': 30, 'key4': 40}\n"
     ]
    }
   ],
   "source": [
    "# Exercício 7 - Adicione mais um elemento ao dicionário criado no exercício anterior e imprima na tela\n",
    "dict2 = {'key1':10, 'key2':20, 'key3':30}\n",
    "dict2['key4'] = 40\n",
    "print(dict2)"
   ]
  },
  {
   "cell_type": "code",
   "execution_count": 16,
   "metadata": {},
   "outputs": [
    {
     "name": "stdout",
     "output_type": "stream",
     "text": [
      "{'SP': [11, 13], 'RJ': 21, 'BH': 31}\n"
     ]
    }
   ],
   "source": [
    "# Exercício 8 - Crie um dicionário com 3 chaves e 3 valores. \n",
    "# Um dos valores deve ser uma lista de 2 elementos numéricos. \n",
    "# Imprima o dicionário na tela.\n",
    "dict3 = {'SP':[11,13], 'RJ':21, 'BH':31}\n",
    "print(dict3)"
   ]
  },
  {
   "cell_type": "code",
   "execution_count": 17,
   "metadata": {},
   "outputs": [
    {
     "name": "stdout",
     "output_type": "stream",
     "text": [
      "['Olá Mundo!', ('Batata', 13), {'chave1': 22, 'chave2': 34}, 4.67]\n"
     ]
    }
   ],
   "source": [
    "# Exercício 9 - Crie uma lista de 4 elementos. O primeiro elemento deve ser uma string, \n",
    "# o segundo uma tupla de 2 elementos, o terceiro um dicionário com 2 chaves e 2 valores e \n",
    "# o quarto elemento um valor do tipo float.\n",
    "# Imprima a lista.\n",
    "lista2 = ['Olá Mundo!', ('Batata', 13), {'chave1':22, 'chave2':34}, 4.67]\n",
    "print(lista2)"
   ]
  },
  {
   "cell_type": "code",
   "execution_count": 18,
   "metadata": {},
   "outputs": [
    {
     "name": "stdout",
     "output_type": "stream",
     "text": [
      "Cientista de Dados\n"
     ]
    }
   ],
   "source": [
    "# Exercício 10 - Considere a string abaixo. Imprima na tela apenas os caracteres da posição 1 (primeiro do texto) a 18.\n",
    "frase = 'Cientista de Dados é o profissional mais sexy do século XXI'\n",
    "print(frase[0:18])"
   ]
  }
 ],
 "metadata": {
  "kernelspec": {
   "display_name": "Python 3",
   "language": "python",
   "name": "python3"
  },
  "language_info": {
   "codemirror_mode": {
    "name": "ipython",
    "version": 3
   },
   "file_extension": ".py",
   "mimetype": "text/x-python",
   "name": "python",
   "nbconvert_exporter": "python",
   "pygments_lexer": "ipython3",
   "version": "3.11.1"
  },
  "orig_nbformat": 4
 },
 "nbformat": 4,
 "nbformat_minor": 2
}
