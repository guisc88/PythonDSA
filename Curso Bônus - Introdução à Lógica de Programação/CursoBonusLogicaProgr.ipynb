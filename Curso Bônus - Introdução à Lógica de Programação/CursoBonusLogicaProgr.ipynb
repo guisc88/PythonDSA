{
 "cells": [
  {
   "attachments": {},
   "cell_type": "markdown",
   "metadata": {},
   "source": [
    "### Escrever na tela um valor da sequência de Fibonacci"
   ]
  },
  {
   "cell_type": "code",
   "execution_count": 1,
   "metadata": {},
   "outputs": [
    {
     "name": "stdout",
     "output_type": "stream",
     "text": [
      "34\n"
     ]
    }
   ],
   "source": [
    "# Método Recursivo\n",
    "\n",
    "def encontraFibonacci(n):\n",
    "    if n < 0:\n",
    "        print(\"Entrada incorreta!\")\n",
    "    elif n == 1:\n",
    "        return 0\n",
    "    elif n == 2:\n",
    "        return 1\n",
    "    else:\n",
    "        return encontraFibonacci(n-1) + encontraFibonacci(n-2)    \n",
    "\n",
    "print(encontraFibonacci(10))"
   ]
  },
  {
   "attachments": {},
   "cell_type": "markdown",
   "metadata": {},
   "source": [
    "### Escrever na tela a sequência de Fibonacci até 12"
   ]
  },
  {
   "cell_type": "code",
   "execution_count": 2,
   "metadata": {},
   "outputs": [
    {
     "name": "stdout",
     "output_type": "stream",
     "text": [
      "Sequência de Fibonacci até 12 :\n",
      "0 , 1 , 1 , 2 , 3 , 5 , 8 , 13 , 21 , 34 , 55 , 89 , "
     ]
    }
   ],
   "source": [
    "n = 12; n1 = 0; n2 = 1\n",
    "\n",
    "count = 0\n",
    "if n < 0:\n",
    "    print('A Posição Não Pode ser Negativa')\n",
    "elif n == 1:\n",
    "    print('Sequência de Fibonacci até ',n,':')\n",
    "    print(n1)\n",
    "else:\n",
    "    print('Sequência de Fibonacci até',n,':')\n",
    "    while count < n:\n",
    "        print(n1, end = ' , ')\n",
    "        nth = n1 + n2\n",
    "        n1 = n2\n",
    "        n2 = nth\n",
    "        count += 1"
   ]
  },
  {
   "attachments": {},
   "cell_type": "markdown",
   "metadata": {},
   "source": [
    "### Entre dois números, retorne o maior deles"
   ]
  },
  {
   "cell_type": "code",
   "execution_count": 1,
   "metadata": {},
   "outputs": [
    {
     "data": {
      "text/plain": [
       "8"
      ]
     },
     "execution_count": 1,
     "metadata": {},
     "output_type": "execute_result"
    }
   ],
   "source": [
    "def maximo2(a,b):\n",
    "    if a > b:\n",
    "        return a\n",
    "    else:\n",
    "        return b\n",
    "    \n",
    "maximo2(2,8)"
   ]
  },
  {
   "attachments": {},
   "cell_type": "markdown",
   "metadata": {},
   "source": [
    "### Entre três números, retorne o maior deles"
   ]
  },
  {
   "cell_type": "code",
   "execution_count": 2,
   "metadata": {},
   "outputs": [
    {
     "data": {
      "text/plain": [
       "10"
      ]
     },
     "execution_count": 2,
     "metadata": {},
     "output_type": "execute_result"
    }
   ],
   "source": [
    "def maximo3_v1 (a,b,c):\n",
    "    if a > b and a > c:\n",
    "        return a\n",
    "    elif b > c:\n",
    "        return b\n",
    "    else:\n",
    "        return c\n",
    "\n",
    "maximo3_v1(8, 10, 9)"
   ]
  },
  {
   "cell_type": "code",
   "execution_count": 3,
   "metadata": {},
   "outputs": [
    {
     "data": {
      "text/plain": [
       "17"
      ]
     },
     "execution_count": 3,
     "metadata": {},
     "output_type": "execute_result"
    }
   ],
   "source": [
    "def maximo3_v2(a, b, c):\n",
    "    if a < b:\n",
    "        return max(b, c)\n",
    "    else:\n",
    "        return max(a, c)\n",
    "    \n",
    "maximo3_v2(17, 13, 14)"
   ]
  },
  {
   "attachments": {},
   "cell_type": "markdown",
   "metadata": {},
   "source": [
    "### Criar um programa e somar os dígitos de 1 a 5."
   ]
  },
  {
   "cell_type": "code",
   "execution_count": 1,
   "metadata": {},
   "outputs": [
    {
     "name": "stdout",
     "output_type": "stream",
     "text": [
      "15\n"
     ]
    }
   ],
   "source": [
    "soma = 0\n",
    "    \n",
    "for i in range(0, 5, 1):\n",
    "    soma = soma + (i+1)\n",
    "        \n",
    "print(soma) "
   ]
  },
  {
   "attachments": {},
   "cell_type": "markdown",
   "metadata": {},
   "source": [
    "### Criar um programa e somar os dígitos de 1 até um valor qualquer."
   ]
  },
  {
   "cell_type": "code",
   "execution_count": 3,
   "metadata": {},
   "outputs": [
    {
     "data": {
      "text/plain": [
       "500500"
      ]
     },
     "execution_count": 3,
     "metadata": {},
     "output_type": "execute_result"
    }
   ],
   "source": [
    "def soma(n):\n",
    "    soma = 0\n",
    "    for i in range(0, n+1, 1):\n",
    "        soma = soma + i\n",
    "    return soma    \n",
    "    \n",
    "soma(1000)  "
   ]
  },
  {
   "cell_type": "code",
   "execution_count": 1,
   "metadata": {},
   "outputs": [
    {
     "data": {
      "text/plain": [
       "500500"
      ]
     },
     "execution_count": 1,
     "metadata": {},
     "output_type": "execute_result"
    }
   ],
   "source": [
    "def soma(n):\n",
    "    soma = 0\n",
    "    i = 1\n",
    "    while i <= n:\n",
    "        soma = soma + i\n",
    "        i = i + 1\n",
    "    return soma\n",
    "\n",
    "soma(1000)"
   ]
  },
  {
   "cell_type": "code",
   "execution_count": 2,
   "metadata": {},
   "outputs": [
    {
     "data": {
      "text/plain": [
       "500500"
      ]
     },
     "execution_count": 2,
     "metadata": {},
     "output_type": "execute_result"
    }
   ],
   "source": [
    "# Método Recursivo\n",
    "\n",
    "def somaTotal(n):\n",
    "    if n > 0:\n",
    "        soma = somaTotal(n-1) + n\n",
    "    else:\n",
    "        soma = 0\n",
    "    return soma\n",
    "\n",
    "somaTotal(1000)"
   ]
  },
  {
   "attachments": {},
   "cell_type": "markdown",
   "metadata": {},
   "source": [
    "### Dada a lista de famosos autores brasileiros, crie um programa que pesquise se \"Clarice Lispector\" está na lista e se estiver indique o índice da posição na lista. Aqui está a lista: autores = ['Monteiro Lobato', 'José de Alencar', 'Cecília Meireles', 'Carlos Drummond de Andrade', 'Machado de Assis', 'Clarice Lispector', 'GracilianoRamos', 'Guimarães Rosa', 'Ruth Rocha', 'Luis Fernando Veríssimo']. Dica: a lista NÃO está ordenada e a Pesquisa Binária tem como premissa que a lista esteja ordenada."
   ]
  },
  {
   "cell_type": "code",
   "execution_count": 3,
   "metadata": {},
   "outputs": [
    {
     "name": "stdout",
     "output_type": "stream",
     "text": [
      "O autor \"Clarice Lispector\" foi encontrado na posição 2 da lista.\n"
     ]
    }
   ],
   "source": [
    "# Pesquisa Binária\n",
    "\n",
    "def pesquisa_binaria(lista, valor_pesquisado):\n",
    "    lista_ordenada = sorted(lista)\n",
    "    esquerda = 0\n",
    "    direita = len(lista_ordenada) - 1\n",
    "    while esquerda <= direita:\n",
    "        meio = (esquerda + direita) // 2\n",
    "        if lista_ordenada[meio] == valor_pesquisado:\n",
    "            return meio\n",
    "        elif lista_ordenada[meio] < valor_pesquisado:\n",
    "            esquerda = meio + 1\n",
    "        else:\n",
    "            direita = meio - 1\n",
    "    return -1\n",
    "\n",
    "autores = ['Monteiro Lobato', 'José de Alencar', 'Cecília Meireles', 'Carlos Drummond de Andrade', 'Machado de Assis', 'Clarice Lispector', 'Graciliano Ramos', 'Guimarães Rosa', 'Ruth Rocha', 'Luis Fernando Veríssimo']\n",
    "autor_pesquisado = input(\"Digite o nome do autor a ser pesquisado: \")\n",
    "indice = pesquisa_binaria(autores, autor_pesquisado)\n",
    "\n",
    "if indice == -1:\n",
    "    print(f'O autor \"{autor_pesquisado}\" não foi encontrado na lista.')\n",
    "else:\n",
    "    print(f'O autor \"{autor_pesquisado}\" foi encontrado na posição {indice} da lista.')\n"
   ]
  }
 ],
 "metadata": {
  "kernelspec": {
   "display_name": "Python 3",
   "language": "python",
   "name": "python3"
  },
  "language_info": {
   "codemirror_mode": {
    "name": "ipython",
    "version": 3
   },
   "file_extension": ".py",
   "mimetype": "text/x-python",
   "name": "python",
   "nbconvert_exporter": "python",
   "pygments_lexer": "ipython3",
   "version": "3.11.1"
  },
  "orig_nbformat": 4
 },
 "nbformat": 4,
 "nbformat_minor": 2
}
